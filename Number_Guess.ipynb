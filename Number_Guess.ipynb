{
  "nbformat": 4,
  "nbformat_minor": 0,
  "metadata": {
    "colab": {
      "provenance": []
    },
    "kernelspec": {
      "name": "python3",
      "display_name": "Python 3"
    },
    "language_info": {
      "name": "python"
    }
  },
  "cells": [
    {
      "cell_type": "code",
      "execution_count": 23,
      "metadata": {
        "colab": {
          "base_uri": "https://localhost:8080/"
        },
        "id": "mK3RKHdB-zBJ",
        "outputId": "53131964-41cc-499d-9928-b85eee22f187"
      },
      "outputs": [
        {
          "output_type": "stream",
          "name": "stdout",
          "text": [
            "Guess a number between 1 and 1000\n",
            "Your guess: 253\n",
            "Too high!\n",
            "\n",
            "Tries left: 6\n",
            "Your guess: 200\n",
            "Too high!\n",
            "\n",
            "Tries left: 5\n",
            "Your guess: 150\n",
            "Too high!\n",
            "\n",
            "Tries left: 4\n",
            "Your guess: 100\n",
            "Too low!\n",
            "\n",
            "Tries left: 3\n",
            "Your guess: 130\n",
            "You win!\n",
            "\n"
          ]
        }
      ],
      "source": [
        "import random\n",
        "\n",
        "def number_guessing_game():\n",
        "    num = random.randint(1, 1000)\n",
        "    attempts = 7\n",
        "\n",
        "    print(\"Guess a number between 1 and 1000\")\n",
        "\n",
        "    while attempts > 0:\n",
        "        guess = int(input(\"Your guess: \"))\n",
        "\n",
        "        if guess == num:\n",
        "            print(\"You win!\\n\")\n",
        "            return\n",
        "        elif guess < num:\n",
        "            print(\"Too low!\\n\")\n",
        "        else:\n",
        "            print(\"Too high!\\n\")\n",
        "\n",
        "        attempts -= 1\n",
        "        print(f\"Tries left: {attempts}\")\n",
        "\n",
        "    print(f\"Game over! The number was {num}.\")\n",
        "\n",
        "number_guessing_game()"
      ]
    },
    {
      "cell_type": "code",
      "source": [],
      "metadata": {
        "id": "lG65CwL7ByIn"
      },
      "execution_count": 22,
      "outputs": []
    }
  ]
}